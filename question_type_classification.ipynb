{
  "nbformat": 4,
  "nbformat_minor": 0,
  "metadata": {
    "colab": {
      "name": "question_type_classification.ipynb",
      "provenance": []
    },
    "kernelspec": {
      "name": "python3",
      "display_name": "Python 3"
    }
  },
  "cells": [
    {
      "cell_type": "markdown",
      "metadata": {
        "id": "4xP9UzxQHn0u"
      },
      "source": [
        "**Tutorial Question Type Detection / Classification**\r\n",
        "\r\n",
        "Mendeteksi tipe pertanyaan, bagian dari tahapan *question processing*\r\n",
        "\r\n",
        "Referensi:  Learning Question Classifiers, Xin Li, Dan Roth. COLING'02, Aug., 2002\r\n",
        "\r\n",
        "Dataset yang digunakan: training_set_1, https://cogcomp.seas.upenn.edu/Data/QA/QC/"
      ]
    },
    {
      "cell_type": "markdown",
      "metadata": {
        "id": "CrfW3YbHe6ac"
      },
      "source": [
        "Import library yang diperlukan untuk klasifikasi teks"
      ]
    },
    {
      "cell_type": "code",
      "metadata": {
        "id": "Rte_E9y-y-ZZ"
      },
      "source": [
        "from sklearn.feature_extraction.text import CountVectorizer\r\n",
        "from sklearn.naive_bayes import MultinomialNB\r\n",
        "from sklearn.metrics import classification_report"
      ],
      "execution_count": null,
      "outputs": []
    },
    {
      "cell_type": "markdown",
      "metadata": {
        "id": "ALTBtMOBfbwA"
      },
      "source": [
        "Baca file yang berisi dataset pertanyaan/question yang berisi informasi tipe/label question"
      ]
    },
    {
      "cell_type": "code",
      "metadata": {
        "id": "L7RdK43UzOIX"
      },
      "source": [
        "file = open('drive/My Drive/test_code_2020/NLP/pekan_14/train_1000.label', 'r', encoding = \"ISO-8859-1\") \r\n",
        "lines = file.readlines() "
      ],
      "execution_count": null,
      "outputs": []
    },
    {
      "cell_type": "markdown",
      "metadata": {
        "id": "OPllyO3pfmJv"
      },
      "source": [
        "Coba print question dan label pertama di dataset"
      ]
    },
    {
      "cell_type": "code",
      "metadata": {
        "colab": {
          "base_uri": "https://localhost:8080/"
        },
        "id": "kMRBPqar0ZeC",
        "outputId": "559d71f6-23e3-4801-99b5-2ad63fe7f85b"
      },
      "source": [
        "print(lines[0])"
      ],
      "execution_count": null,
      "outputs": [
        {
          "output_type": "stream",
          "text": [
            "DESC:manner How did serfdom develop in and then leave Russia ?\n",
            "\n"
          ],
          "name": "stdout"
        }
      ]
    },
    {
      "cell_type": "markdown",
      "metadata": {
        "id": "T4NQiHo2fr4Q"
      },
      "source": [
        "Periksa jumlah total question"
      ]
    },
    {
      "cell_type": "code",
      "metadata": {
        "colab": {
          "base_uri": "https://localhost:8080/"
        },
        "id": "9J-gdwUE2o56",
        "outputId": "7157dc10-ff69-4b75-f2f5-b704594b60a2"
      },
      "source": [
        "print(len(lines))"
      ],
      "execution_count": null,
      "outputs": [
        {
          "output_type": "stream",
          "text": [
            "1000\n"
          ],
          "name": "stdout"
        }
      ]
    },
    {
      "cell_type": "markdown",
      "metadata": {
        "id": "tosMLvwzfvvv"
      },
      "source": [
        "Proses dataset, pisahkan label tipe question dan question. Pada tutorial ini, identifikasi tipe hanya dilakukan pada level tipe yang lebih general. Deskripsi lengkap tipe question silakan dibaca di paper referensi."
      ]
    },
    {
      "cell_type": "code",
      "metadata": {
        "id": "58PO2uky0fHw"
      },
      "source": [
        "labels = []\r\n",
        "questions = []\r\n",
        "for line in lines:\r\n",
        "    tokens = line.split()\r\n",
        "    current_label = tokens[0].split(':')[0]\r\n",
        "    labels.append(current_label)\r\n",
        "    #'Path=helloworld'.removeprefix('Path=')\r\n",
        "    current_question = line[len(tokens[0])+1:]\r\n",
        "    questions.append(current_question)"
      ],
      "execution_count": null,
      "outputs": []
    },
    {
      "cell_type": "markdown",
      "metadata": {
        "id": "XOrxzEPEf-We"
      },
      "source": [
        "Cek label question pertama"
      ]
    },
    {
      "cell_type": "code",
      "metadata": {
        "colab": {
          "base_uri": "https://localhost:8080/"
        },
        "id": "juIxjZLk2aGR",
        "outputId": "1b7cf07c-85b0-404f-c650-5f16453e007f"
      },
      "source": [
        "print(labels[0])"
      ],
      "execution_count": null,
      "outputs": [
        {
          "output_type": "stream",
          "text": [
            "DESC\n"
          ],
          "name": "stdout"
        }
      ]
    },
    {
      "cell_type": "markdown",
      "metadata": {
        "id": "xnNn0vS0gH8p"
      },
      "source": [
        "Cek question pertama"
      ]
    },
    {
      "cell_type": "code",
      "metadata": {
        "colab": {
          "base_uri": "https://localhost:8080/"
        },
        "id": "rXEZY77i2cxc",
        "outputId": "84d646cf-bb0d-4016-d8bb-d0852aa12831"
      },
      "source": [
        "print(questions[0])"
      ],
      "execution_count": null,
      "outputs": [
        {
          "output_type": "stream",
          "text": [
            "How did serfdom develop in and then leave Russia ?\n",
            "\n"
          ],
          "name": "stdout"
        }
      ]
    },
    {
      "cell_type": "markdown",
      "metadata": {
        "id": "2MeiKpM02tEl"
      },
      "source": [
        "Split menjadi data train dan data test, 80:20"
      ]
    },
    {
      "cell_type": "code",
      "metadata": {
        "id": "TtR_VrOd2w-Z"
      },
      "source": [
        "X_train = questions[0:800]\r\n",
        "y_train = labels[0:800]\r\n",
        "X_test = questions[800:1000]\r\n",
        "y_test = labels[800:1000]"
      ],
      "execution_count": null,
      "outputs": []
    },
    {
      "cell_type": "code",
      "metadata": {
        "colab": {
          "base_uri": "https://localhost:8080/"
        },
        "id": "-04gomLc3i33",
        "outputId": "636a093e-c71e-45ae-cbc5-b5758ec51d4a"
      },
      "source": [
        "print(len(X_train))"
      ],
      "execution_count": null,
      "outputs": [
        {
          "output_type": "stream",
          "text": [
            "800\n"
          ],
          "name": "stdout"
        }
      ]
    },
    {
      "cell_type": "markdown",
      "metadata": {
        "id": "N-b3bvIkgNwd"
      },
      "source": [
        "Ubah representasi teks ke vektor count"
      ]
    },
    {
      "cell_type": "code",
      "metadata": {
        "id": "W5Cltsfw3mDy"
      },
      "source": [
        "cv = CountVectorizer(analyzer='word') \r\n",
        "X_train_cv = cv.fit_transform(X_train)"
      ],
      "execution_count": null,
      "outputs": []
    },
    {
      "cell_type": "code",
      "metadata": {
        "id": "W5Oa7FsA34TD"
      },
      "source": [
        "X_test_cv = cv.transform(X_test)"
      ],
      "execution_count": null,
      "outputs": []
    },
    {
      "cell_type": "code",
      "metadata": {
        "colab": {
          "base_uri": "https://localhost:8080/"
        },
        "id": "Adl7kqvl3y9f",
        "outputId": "6d567e48-4af9-483f-e32b-50c613d9630f"
      },
      "source": [
        "print(X_train[0])"
      ],
      "execution_count": null,
      "outputs": [
        {
          "output_type": "stream",
          "text": [
            "How did serfdom develop in and then leave Russia ?\n",
            "\n"
          ],
          "name": "stdout"
        }
      ]
    },
    {
      "cell_type": "markdown",
      "metadata": {
        "id": "kBSlW81RhP7Q"
      },
      "source": [
        "Contoh representasi vektor question pertama"
      ]
    },
    {
      "cell_type": "code",
      "metadata": {
        "colab": {
          "base_uri": "https://localhost:8080/"
        },
        "id": "01-ek0XVG6Qh",
        "outputId": "f8027dd6-79b7-4cf7-b4d0-1782062bdec0"
      },
      "source": [
        "print(X_train_cv[0])"
      ],
      "execution_count": null,
      "outputs": [
        {
          "output_type": "stream",
          "text": [
            "  (0, 1053)\t1\n",
            "  (0, 646)\t1\n",
            "  (0, 1862)\t1\n",
            "  (0, 637)\t1\n",
            "  (0, 1074)\t1\n",
            "  (0, 131)\t1\n",
            "  (0, 2089)\t1\n",
            "  (0, 1221)\t1\n",
            "  (0, 1817)\t1\n"
          ],
          "name": "stdout"
        }
      ]
    },
    {
      "cell_type": "markdown",
      "metadata": {
        "id": "1E8S0b5vhWFr"
      },
      "source": [
        "Train classifier Multinomial Naive Bayes"
      ]
    },
    {
      "cell_type": "code",
      "metadata": {
        "colab": {
          "base_uri": "https://localhost:8080/"
        },
        "id": "gp8Mzxys4K4M",
        "outputId": "4894185f-34f5-410c-8917-1ae37ac0145b"
      },
      "source": [
        "clf = MultinomialNB()\r\n",
        "clf.fit(X_train_cv, y_train)"
      ],
      "execution_count": null,
      "outputs": [
        {
          "output_type": "execute_result",
          "data": {
            "text/plain": [
              "MultinomialNB(alpha=1.0, class_prior=None, fit_prior=True)"
            ]
          },
          "metadata": {
            "tags": []
          },
          "execution_count": 39
        }
      ]
    },
    {
      "cell_type": "markdown",
      "metadata": {
        "id": "u5zIxl53hwUa"
      },
      "source": [
        "Lakukan prediksi tipe question data tes"
      ]
    },
    {
      "cell_type": "code",
      "metadata": {
        "id": "UE3Zagp2GOS9"
      },
      "source": [
        "y_predict = clf.predict(X_test_cv)"
      ],
      "execution_count": null,
      "outputs": []
    },
    {
      "cell_type": "markdown",
      "metadata": {
        "id": "utIya40nh2Tk"
      },
      "source": [
        "Representasi vektor data tes pertama"
      ]
    },
    {
      "cell_type": "code",
      "metadata": {
        "colab": {
          "base_uri": "https://localhost:8080/"
        },
        "id": "hE5QTx-uHD0Z",
        "outputId": "f57df3e2-1bed-4739-ae2a-909848c0384d"
      },
      "source": [
        "print(X_test_cv[0])"
      ],
      "execution_count": null,
      "outputs": [
        {
          "output_type": "stream",
          "text": [
            "  (0, 279)\t1\n",
            "  (0, 846)\t1\n",
            "  (0, 937)\t1\n",
            "  (0, 1074)\t1\n",
            "  (0, 1500)\t1\n",
            "  (0, 2084)\t2\n",
            "  (0, 2111)\t1\n",
            "  (0, 2215)\t1\n",
            "  (0, 2251)\t1\n"
          ],
          "name": "stdout"
        }
      ]
    },
    {
      "cell_type": "markdown",
      "metadata": {
        "id": "_IFYfuuBh5V_"
      },
      "source": [
        "Question pertama pada data tes"
      ]
    },
    {
      "cell_type": "code",
      "metadata": {
        "colab": {
          "base_uri": "https://localhost:8080/"
        },
        "id": "7ksSdNq4GW-l",
        "outputId": "991c11e9-3173-4766-84fc-523a0353c25a"
      },
      "source": [
        "print(X_test[0])"
      ],
      "execution_count": null,
      "outputs": [
        {
          "output_type": "stream",
          "text": [
            "Who was the first black golfer to tee off in the Masters ?\n",
            "\n"
          ],
          "name": "stdout"
        }
      ]
    },
    {
      "cell_type": "markdown",
      "metadata": {
        "id": "vguJLjJ9iDUc"
      },
      "source": [
        "Tipe question hasil prediksi question pertama"
      ]
    },
    {
      "cell_type": "code",
      "metadata": {
        "colab": {
          "base_uri": "https://localhost:8080/"
        },
        "id": "KNXx-JA9Gbzb",
        "outputId": "c016b1f7-c5e0-408a-a68d-dfe6198b7a7d"
      },
      "source": [
        "print(y_predict[0])"
      ],
      "execution_count": null,
      "outputs": [
        {
          "output_type": "stream",
          "text": [
            "HUM\n"
          ],
          "name": "stdout"
        }
      ]
    },
    {
      "cell_type": "markdown",
      "metadata": {
        "id": "xoeKe5FqiMcN"
      },
      "source": [
        "Tipe question pertama sebenarnya"
      ]
    },
    {
      "cell_type": "code",
      "metadata": {
        "colab": {
          "base_uri": "https://localhost:8080/"
        },
        "id": "pPbNY_PGiI6k",
        "outputId": "9b31992c-65c1-4e15-ce5f-a53f701ed137"
      },
      "source": [
        "print(y_test[0])"
      ],
      "execution_count": null,
      "outputs": [
        {
          "output_type": "stream",
          "text": [
            "HUM\n"
          ],
          "name": "stdout"
        }
      ]
    },
    {
      "cell_type": "markdown",
      "metadata": {
        "id": "NGvAmR6PiP-U"
      },
      "source": [
        "Kinerja klasifikasi (deteksi tipe question) pada data tes"
      ]
    },
    {
      "cell_type": "code",
      "metadata": {
        "colab": {
          "base_uri": "https://localhost:8080/"
        },
        "id": "Ki3hLH35HfW9",
        "outputId": "3b011b71-9b5a-4ad1-e002-8a2bf81ff6f4"
      },
      "source": [
        "print(classification_report(y_test, y_predict))"
      ],
      "execution_count": null,
      "outputs": [
        {
          "output_type": "stream",
          "text": [
            "              precision    recall  f1-score   support\n",
            "\n",
            "        ABBR       0.00      0.00      0.00         4\n",
            "        DESC       0.71      0.54      0.62        37\n",
            "        ENTY       0.52      0.67      0.59        51\n",
            "         HUM       0.78      0.76      0.77        50\n",
            "         LOC       0.85      0.88      0.86        32\n",
            "         NUM       0.80      0.77      0.78        26\n",
            "\n",
            "    accuracy                           0.70       200\n",
            "   macro avg       0.61      0.60      0.60       200\n",
            "weighted avg       0.70      0.70      0.70       200\n",
            "\n"
          ],
          "name": "stdout"
        },
        {
          "output_type": "stream",
          "text": [
            "/usr/local/lib/python3.6/dist-packages/sklearn/metrics/_classification.py:1272: UndefinedMetricWarning: Precision and F-score are ill-defined and being set to 0.0 in labels with no predicted samples. Use `zero_division` parameter to control this behavior.\n",
            "  _warn_prf(average, modifier, msg_start, len(result))\n"
          ],
          "name": "stderr"
        }
      ]
    }
  ]
}