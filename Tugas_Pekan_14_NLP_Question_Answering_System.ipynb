{
  "nbformat": 4,
  "nbformat_minor": 0,
  "metadata": {
    "colab": {
      "name": "Tugas Pekan 14 - NLP - Question Answering System.ipynb",
      "provenance": []
    },
    "kernelspec": {
      "name": "python3",
      "display_name": "Python 3"
    }
  },
  "cells": [
    {
      "cell_type": "markdown",
      "metadata": {
        "id": "4xP9UzxQHn0u"
      },
      "source": [
        "**Tutorial Question Type Detection / Classification**\r\n",
        "\r\n",
        "Mendeteksi tipe pertanyaan, bagian dari tahapan *question processing*\r\n",
        "\r\n",
        "Referensi:  Learning Question Classifiers, Xin Li, Dan Roth. COLING'02, Aug., 2002\r\n",
        "\r\n",
        "Dataset yang digunakan: training_set_1, https://cogcomp.seas.upenn.edu/Data/QA/QC/"
      ]
    },
    {
      "cell_type": "markdown",
      "metadata": {
        "id": "CrfW3YbHe6ac"
      },
      "source": [
        "Import library yang diperlukan untuk klasifikasi teks"
      ]
    },
    {
      "cell_type": "code",
      "metadata": {
        "id": "Rte_E9y-y-ZZ"
      },
      "source": [
        "from sklearn.feature_extraction.text import CountVectorizer\r\n",
        "from sklearn.naive_bayes import MultinomialNB\r\n",
        "from sklearn.metrics import classification_report"
      ],
      "execution_count": 21,
      "outputs": []
    },
    {
      "cell_type": "markdown",
      "metadata": {
        "id": "ALTBtMOBfbwA"
      },
      "source": [
        "Baca file yang berisi dataset pertanyaan/question yang berisi informasi tipe/label question"
      ]
    },
    {
      "cell_type": "code",
      "metadata": {
        "id": "L7RdK43UzOIX"
      },
      "source": [
        "file = open('train_1000.label', 'r', encoding = \"ISO-8859-1\") \r\n",
        "lines = file.readlines() "
      ],
      "execution_count": 22,
      "outputs": []
    },
    {
      "cell_type": "markdown",
      "metadata": {
        "id": "OPllyO3pfmJv"
      },
      "source": [
        "Coba print question dan label pertama di dataset"
      ]
    },
    {
      "cell_type": "code",
      "metadata": {
        "colab": {
          "base_uri": "https://localhost:8080/"
        },
        "id": "kMRBPqar0ZeC",
        "outputId": "5a2e071f-f94c-4fae-d864-2542ade671d9"
      },
      "source": [
        "print(lines[0])"
      ],
      "execution_count": 23,
      "outputs": [
        {
          "output_type": "stream",
          "text": [
            "DESC:manner How did serfdom develop in and then leave Russia ?\n",
            "\n"
          ],
          "name": "stdout"
        }
      ]
    },
    {
      "cell_type": "markdown",
      "metadata": {
        "id": "T4NQiHo2fr4Q"
      },
      "source": [
        "Periksa jumlah total question"
      ]
    },
    {
      "cell_type": "code",
      "metadata": {
        "colab": {
          "base_uri": "https://localhost:8080/"
        },
        "id": "9J-gdwUE2o56",
        "outputId": "84b99e3a-0ee4-4e8b-cd07-b611ce2515a5"
      },
      "source": [
        "print(len(lines))"
      ],
      "execution_count": 24,
      "outputs": [
        {
          "output_type": "stream",
          "text": [
            "1000\n"
          ],
          "name": "stdout"
        }
      ]
    },
    {
      "cell_type": "markdown",
      "metadata": {
        "id": "tosMLvwzfvvv"
      },
      "source": [
        "Proses dataset, pisahkan label tipe question dan question. Pada tutorial ini, identifikasi tipe hanya dilakukan pada level tipe yang lebih general. Deskripsi lengkap tipe question silakan dibaca di paper referensi."
      ]
    },
    {
      "cell_type": "code",
      "metadata": {
        "id": "58PO2uky0fHw"
      },
      "source": [
        "labels = []\r\n",
        "questions = []\r\n",
        "for line in lines:\r\n",
        "    tokens = line.split()\r\n",
        "    current_label = tokens[0].split(':')[0]\r\n",
        "    current_question = line[len(tokens[0])+1:]    \r\n",
        "    if ((\"Who\" or \"Whom\") in current_question):\r\n",
        "        current_label = \"HUM\"\r\n",
        "    elif (\"Where\" in current_question):\r\n",
        "        current_label = \"LOC\"\r\n",
        "    elif ((\"How much\" or \"How many\") in current_question):\r\n",
        "        current_label = \"NUM\"\r\n",
        "    elif ((\"abbreviation\" or \"stand for\") in current_question):\r\n",
        "        current_label = \"ABBR\"\r\n",
        "    labels.append(current_label)\r\n",
        "    questions.append(current_question)"
      ],
      "execution_count": 25,
      "outputs": []
    },
    {
      "cell_type": "markdown",
      "metadata": {
        "id": "XOrxzEPEf-We"
      },
      "source": [
        "Cek label question pertama"
      ]
    },
    {
      "cell_type": "code",
      "metadata": {
        "colab": {
          "base_uri": "https://localhost:8080/"
        },
        "id": "juIxjZLk2aGR",
        "outputId": "dd3121be-7a5b-4b2b-d9b2-56ec4f95c027"
      },
      "source": [
        "print(labels[0])"
      ],
      "execution_count": 26,
      "outputs": [
        {
          "output_type": "stream",
          "text": [
            "DESC\n"
          ],
          "name": "stdout"
        }
      ]
    },
    {
      "cell_type": "markdown",
      "metadata": {
        "id": "xnNn0vS0gH8p"
      },
      "source": [
        "Cek question pertama"
      ]
    },
    {
      "cell_type": "code",
      "metadata": {
        "colab": {
          "base_uri": "https://localhost:8080/"
        },
        "id": "rXEZY77i2cxc",
        "outputId": "050318e7-2edd-4d5d-c192-782f102a6593"
      },
      "source": [
        "print(questions[0])"
      ],
      "execution_count": 27,
      "outputs": [
        {
          "output_type": "stream",
          "text": [
            "How did serfdom develop in and then leave Russia ?\n",
            "\n"
          ],
          "name": "stdout"
        }
      ]
    },
    {
      "cell_type": "markdown",
      "metadata": {
        "id": "2MeiKpM02tEl"
      },
      "source": [
        "Split menjadi data train dan data test, 80:20"
      ]
    },
    {
      "cell_type": "code",
      "metadata": {
        "id": "TtR_VrOd2w-Z"
      },
      "source": [
        "X_train = questions[0:800]\r\n",
        "y_train = labels[0:800]\r\n",
        "X_test = questions[800:1000]\r\n",
        "y_test = labels[800:1000]"
      ],
      "execution_count": 28,
      "outputs": []
    },
    {
      "cell_type": "code",
      "metadata": {
        "colab": {
          "base_uri": "https://localhost:8080/"
        },
        "id": "-04gomLc3i33",
        "outputId": "69b49aa3-f353-4e4e-ca39-b4454ee37a87"
      },
      "source": [
        "print(len(X_train))"
      ],
      "execution_count": 29,
      "outputs": [
        {
          "output_type": "stream",
          "text": [
            "800\n"
          ],
          "name": "stdout"
        }
      ]
    },
    {
      "cell_type": "markdown",
      "metadata": {
        "id": "N-b3bvIkgNwd"
      },
      "source": [
        "Ubah representasi teks ke vektor count"
      ]
    },
    {
      "cell_type": "code",
      "metadata": {
        "id": "W5Cltsfw3mDy"
      },
      "source": [
        "cv = CountVectorizer(analyzer='word') \r\n",
        "X_train_cv = cv.fit_transform(X_train)"
      ],
      "execution_count": 30,
      "outputs": []
    },
    {
      "cell_type": "code",
      "metadata": {
        "id": "W5Oa7FsA34TD"
      },
      "source": [
        "X_test_cv = cv.transform(X_test)"
      ],
      "execution_count": 31,
      "outputs": []
    },
    {
      "cell_type": "code",
      "metadata": {
        "colab": {
          "base_uri": "https://localhost:8080/"
        },
        "id": "Adl7kqvl3y9f",
        "outputId": "8723403a-e737-4c8b-9ee5-06ac8f73a4b0"
      },
      "source": [
        "print(X_train[0])"
      ],
      "execution_count": 32,
      "outputs": [
        {
          "output_type": "stream",
          "text": [
            "How did serfdom develop in and then leave Russia ?\n",
            "\n"
          ],
          "name": "stdout"
        }
      ]
    },
    {
      "cell_type": "markdown",
      "metadata": {
        "id": "kBSlW81RhP7Q"
      },
      "source": [
        "Contoh representasi vektor question pertama"
      ]
    },
    {
      "cell_type": "code",
      "metadata": {
        "colab": {
          "base_uri": "https://localhost:8080/"
        },
        "id": "01-ek0XVG6Qh",
        "outputId": "fa83de66-da42-4766-e349-20e1996e1972"
      },
      "source": [
        "print(X_train_cv[0])"
      ],
      "execution_count": 33,
      "outputs": [
        {
          "output_type": "stream",
          "text": [
            "  (0, 1053)\t1\n",
            "  (0, 646)\t1\n",
            "  (0, 1862)\t1\n",
            "  (0, 637)\t1\n",
            "  (0, 1074)\t1\n",
            "  (0, 131)\t1\n",
            "  (0, 2089)\t1\n",
            "  (0, 1221)\t1\n",
            "  (0, 1817)\t1\n"
          ],
          "name": "stdout"
        }
      ]
    },
    {
      "cell_type": "markdown",
      "metadata": {
        "id": "1E8S0b5vhWFr"
      },
      "source": [
        "Train classifier Multinomial Naive Bayes"
      ]
    },
    {
      "cell_type": "code",
      "metadata": {
        "colab": {
          "base_uri": "https://localhost:8080/"
        },
        "id": "gp8Mzxys4K4M",
        "outputId": "3e5ea218-212d-4ab7-d756-3cf5561a3d44"
      },
      "source": [
        "clf = MultinomialNB()\r\n",
        "clf.fit(X_train_cv, y_train)"
      ],
      "execution_count": 34,
      "outputs": [
        {
          "output_type": "execute_result",
          "data": {
            "text/plain": [
              "MultinomialNB(alpha=1.0, class_prior=None, fit_prior=True)"
            ]
          },
          "metadata": {
            "tags": []
          },
          "execution_count": 34
        }
      ]
    },
    {
      "cell_type": "markdown",
      "metadata": {
        "id": "u5zIxl53hwUa"
      },
      "source": [
        "Lakukan prediksi tipe question data tes"
      ]
    },
    {
      "cell_type": "code",
      "metadata": {
        "id": "UE3Zagp2GOS9"
      },
      "source": [
        "y_predict = clf.predict(X_test_cv)"
      ],
      "execution_count": 35,
      "outputs": []
    },
    {
      "cell_type": "markdown",
      "metadata": {
        "id": "utIya40nh2Tk"
      },
      "source": [
        "Representasi vektor data tes pertama"
      ]
    },
    {
      "cell_type": "code",
      "metadata": {
        "colab": {
          "base_uri": "https://localhost:8080/"
        },
        "id": "hE5QTx-uHD0Z",
        "outputId": "c1c9fd1d-6950-46bb-dd13-b9e20e89995a"
      },
      "source": [
        "print(X_test_cv[0])"
      ],
      "execution_count": 36,
      "outputs": [
        {
          "output_type": "stream",
          "text": [
            "  (0, 279)\t1\n",
            "  (0, 846)\t1\n",
            "  (0, 937)\t1\n",
            "  (0, 1074)\t1\n",
            "  (0, 1500)\t1\n",
            "  (0, 2084)\t2\n",
            "  (0, 2111)\t1\n",
            "  (0, 2215)\t1\n",
            "  (0, 2251)\t1\n"
          ],
          "name": "stdout"
        }
      ]
    },
    {
      "cell_type": "markdown",
      "metadata": {
        "id": "_IFYfuuBh5V_"
      },
      "source": [
        "Question pertama pada data tes"
      ]
    },
    {
      "cell_type": "code",
      "metadata": {
        "colab": {
          "base_uri": "https://localhost:8080/"
        },
        "id": "7ksSdNq4GW-l",
        "outputId": "ffee65aa-816c-4c96-9ea7-a535d03309cd"
      },
      "source": [
        "print(X_test[0])"
      ],
      "execution_count": 37,
      "outputs": [
        {
          "output_type": "stream",
          "text": [
            "Who was the first black golfer to tee off in the Masters ?\n",
            "\n"
          ],
          "name": "stdout"
        }
      ]
    },
    {
      "cell_type": "markdown",
      "metadata": {
        "id": "vguJLjJ9iDUc"
      },
      "source": [
        "Tipe question hasil prediksi question pertama"
      ]
    },
    {
      "cell_type": "code",
      "metadata": {
        "colab": {
          "base_uri": "https://localhost:8080/"
        },
        "id": "KNXx-JA9Gbzb",
        "outputId": "5dc26e53-2e0d-4107-c98b-abb62438d911"
      },
      "source": [
        "print(y_predict[0])"
      ],
      "execution_count": 38,
      "outputs": [
        {
          "output_type": "stream",
          "text": [
            "HUM\n"
          ],
          "name": "stdout"
        }
      ]
    },
    {
      "cell_type": "markdown",
      "metadata": {
        "id": "xoeKe5FqiMcN"
      },
      "source": [
        "Tipe question pertama sebenarnya"
      ]
    },
    {
      "cell_type": "code",
      "metadata": {
        "colab": {
          "base_uri": "https://localhost:8080/"
        },
        "id": "pPbNY_PGiI6k",
        "outputId": "f67ae88a-bd4d-45dc-8f3f-6886f64009b9"
      },
      "source": [
        "print(y_test[0])"
      ],
      "execution_count": 39,
      "outputs": [
        {
          "output_type": "stream",
          "text": [
            "HUM\n"
          ],
          "name": "stdout"
        }
      ]
    },
    {
      "cell_type": "markdown",
      "metadata": {
        "id": "NGvAmR6PiP-U"
      },
      "source": [
        "Kinerja klasifikasi (deteksi tipe question) pada data tes"
      ]
    },
    {
      "cell_type": "code",
      "metadata": {
        "colab": {
          "base_uri": "https://localhost:8080/"
        },
        "id": "Ki3hLH35HfW9",
        "outputId": "ac0cfc52-0128-4cf1-df08-91eca3f391b9"
      },
      "source": [
        "print(classification_report(y_test, y_predict))"
      ],
      "execution_count": 40,
      "outputs": [
        {
          "output_type": "stream",
          "text": [
            "              precision    recall  f1-score   support\n",
            "\n",
            "        ABBR       0.00      0.00      0.00         4\n",
            "        DESC       0.72      0.57      0.64        37\n",
            "        ENTY       0.52      0.67      0.59        51\n",
            "         HUM       0.78      0.76      0.77        50\n",
            "         LOC       0.85      0.88      0.86        32\n",
            "         NUM       0.83      0.77      0.80        26\n",
            "\n",
            "    accuracy                           0.70       200\n",
            "   macro avg       0.62      0.61      0.61       200\n",
            "weighted avg       0.71      0.70      0.70       200\n",
            "\n"
          ],
          "name": "stdout"
        },
        {
          "output_type": "stream",
          "text": [
            "/usr/local/lib/python3.6/dist-packages/sklearn/metrics/_classification.py:1272: UndefinedMetricWarning: Precision and F-score are ill-defined and being set to 0.0 in labels with no predicted samples. Use `zero_division` parameter to control this behavior.\n",
            "  _warn_prf(average, modifier, msg_start, len(result))\n"
          ],
          "name": "stderr"
        }
      ]
    }
  ]
}